{
 "cells": [
  {
   "cell_type": "code",
   "execution_count": 1,
   "id": "7e618ea6",
   "metadata": {},
   "outputs": [],
   "source": [
    "from surprise import KNNBaseline\n",
    "import pandas as pd\n",
    "import pickle\n",
    "import os\n",
    "import sys\n",
    "from pathlib import Path"
   ]
  },
  {
   "cell_type": "code",
   "execution_count": 2,
   "id": "b7a1191d",
   "metadata": {},
   "outputs": [
    {
     "name": "stdout",
     "output_type": "stream",
     "text": [
      "当前工作目录: C:\\Users\\Windows\\Documents\\codes\\movies-recommender-master\n"
     ]
    }
   ],
   "source": [
    "# 如果在 Jupyter Notebook 环境中运行\n",
    "try:\n",
    "    # 使用 Notebook 文件的路径\n",
    "    notebook_path = os.path.abspath(\"notebook.ipynb\")  # 替换为你的 Notebook 文件名\n",
    "    current_script_path = Path(notebook_path).resolve()\n",
    "except NameError:\n",
    "    # 如果运行的是脚本环境，则使用 __file__\n",
    "    current_script_path = Path(__file__).resolve()\n",
    "\n",
    "parent_directory = current_script_path.parent.parent  # 获取上层文件夹路径\n",
    "os.chdir(parent_directory)  # 切换当前工作目录\n",
    "\n",
    "# 确认当前工作目录\n",
    "print(f\"当前工作目录: {os.getcwd()}\")"
   ]
  },
  {
   "cell_type": "code",
   "execution_count": 3,
   "id": "661c5e92",
   "metadata": {
    "lines_to_next_cell": 1
   },
   "outputs": [],
   "source": [
    "# 确保工作目录被添加到系统路径\n",
    "sys.path.insert(0, str(parent_directory))"
   ]
  },
  {
   "cell_type": "code",
   "execution_count": 4,
   "id": "a5522b36",
   "metadata": {
    "lines_to_next_cell": 1
   },
   "outputs": [],
   "source": [
    "def calculate_precision_recall(predictions, test_df, k=10, threshold=4.0):\n",
    "    \"\"\"\n",
    "    计算 Precision@K 和 Recall@K\n",
    "    :param predictions: Surprise 的预测结果列表，每个元素为 (userId, movieId, rating, est, details)\n",
    "    :param test_df: 测试集的 DataFrame，包含用户真实评分数据\n",
    "    :param k: 推荐列表的大小，即每个用户取前 K 个推荐结果\n",
    "    :param threshold: 评分阈值，大于等于此值的电影被认为是用户喜欢的相关电影\n",
    "    :return: precision 和 recall 分别表示精确率和召回率\n",
    "    \"\"\"\n",
    "    # 将预测结果转换为 DataFrame 便于操作\n",
    "    pred_df = pd.DataFrame(predictions, columns=['userId', 'movieId', 'rating', 'est', 'details'])\n",
    "\n",
    "    precision, recall = 0.0, 0.0  # 初始化 Precision 和 Recall\n",
    "\n",
    "    # 遍历每个用户进行 Precision@K 和 Recall@K 的计算\n",
    "    for user_id, group in test_df.groupby('userId'):\n",
    "        # 获取该用户实际喜欢的电影集合（真实评分大于等于 threshold）\n",
    "        relevant_items = set(group[group['rating'] >= threshold]['movieId'])\n",
    "\n",
    "        # 获取该用户的推荐电影列表（按预测评分从高到低排序，取前 K 个电影）\n",
    "        recommended_items = set(\n",
    "            pred_df[pred_df['userId'] == user_id]\n",
    "            .sort_values('est', ascending=False)  # 按预测评分从高到低排序\n",
    "            .head(k)['movieId']  # 取前 K 个推荐电影\n",
    "        )\n",
    "\n",
    "        # 计算该用户的命中数（推荐中与实际相关的交集数量）\n",
    "        true_positives = len(relevant_items & recommended_items)\n",
    "\n",
    "        # 更新 Precision 和 Recall\n",
    "        precision += true_positives / k  # 精确率 = 推荐中命中的比例\n",
    "        recall += true_positives / len(relevant_items) if len(relevant_items) > 0 else 0  # 召回率 = 实际相关中被推荐的比例\n",
    "\n",
    "    # 计算所有用户的平均 Precision 和 Recall\n",
    "    num_users = test_df['userId'].nunique()  # 测试集中用户总数\n",
    "    precision /= num_users  # 平均精确率\n",
    "    recall /= num_users  # 平均召回率\n",
    "\n",
    "    return precision, recall"
   ]
  },
  {
   "cell_type": "code",
   "execution_count": 5,
   "id": "5d5c2bbf",
   "metadata": {},
   "outputs": [],
   "source": [
    "# 加载训练好的模型和测试数据\n",
    "with open('models/knn_baseline_model.pkl', 'rb') as model_file:\n",
    "    model = pickle.load(model_file)  # 加载训练好的模型"
   ]
  },
  {
   "cell_type": "code",
   "execution_count": 6,
   "id": "d1d1956b",
   "metadata": {},
   "outputs": [],
   "source": [
    "# 读取测试数据并指定列的数据类型\n",
    "test_data = pd.read_csv(\n",
    "    'data/test_data.csv',\n",
    "    dtype={\n",
    "        'userId': str,      # 用户ID读取为字符串\n",
    "        'movieId': str,     # 电影ID读取为字符串\n",
    "        'rating': float,    # 评分读取为浮点数\n",
    "        'timestamp': int    # 时间戳读取为整数\n",
    "    }\n",
    ")"
   ]
  },
  {
   "cell_type": "code",
   "execution_count": 7,
   "id": "cbcfb5e9",
   "metadata": {},
   "outputs": [],
   "source": [
    "# 将测试数据转换为 Surprise 格式的列表 [(userId, movieId, rating), ...]\n",
    "testset = [(str(row['userId']), str(row['movieId']), row['rating']) for _, row in test_data.iterrows()]\n",
    "predictions = model.test(testset)  # 使用模型进行预测"
   ]
  },
  {
   "cell_type": "code",
   "execution_count": 8,
   "id": "606e7477",
   "metadata": {},
   "outputs": [],
   "source": [
    "# 计算 Precision@K 和 Recall@K\n",
    "precision, recall = calculate_precision_recall(predictions, test_data, k=10, threshold=4.0)"
   ]
  },
  {
   "cell_type": "code",
   "execution_count": 9,
   "id": "fc59bf57",
   "metadata": {},
   "outputs": [
    {
     "name": "stdout",
     "output_type": "stream",
     "text": [
      "Precision@10: 0.3617\n",
      "Recall@10: 0.7292\n"
     ]
    }
   ],
   "source": [
    "# 输出结果\n",
    "print(f\"Precision@10: {precision:.4f}\")\n",
    "print(f\"Recall@10: {recall:.4f}\")"
   ]
  }
 ],
 "metadata": {
  "jupytext": {
   "cell_metadata_filter": "-all",
   "main_language": "python",
   "notebook_metadata_filter": "-all"
  },
  "kernelspec": {
   "display_name": "movies-recommender",
   "language": "python",
   "name": "python3"
  },
  "language_info": {
   "codemirror_mode": {
    "name": "ipython",
    "version": 3
   },
   "file_extension": ".py",
   "mimetype": "text/x-python",
   "name": "python",
   "nbconvert_exporter": "python",
   "pygments_lexer": "ipython3",
   "version": "3.11.10"
  }
 },
 "nbformat": 4,
 "nbformat_minor": 5
}
